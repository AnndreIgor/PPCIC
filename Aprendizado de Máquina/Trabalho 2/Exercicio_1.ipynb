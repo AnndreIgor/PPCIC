{
 "cells": [
  {
   "cell_type": "code",
   "execution_count": 1,
   "metadata": {},
   "outputs": [],
   "source": [
    "# 1. Codificação de atributos categóricos\n",
    "\n",
    "import sklearn\n",
    "import pandas as pd\n",
    "import category_encoders as ce\n",
    "sklearn.set_config(transform_output=\"pandas\")"
   ]
  },
  {
   "cell_type": "code",
   "execution_count": 2,
   "metadata": {},
   "outputs": [],
   "source": [
    "# Importando arquivo CSV\n",
    "credtrain = pd.read_csv(r'Arquivos/credtrain.txt', sep='\\t', index_col=False,\n",
    "                       names=['ESCT', 'NDEP', 'RENDA', 'TIPOR', 'VBEM', 'NPARC',\n",
    "                       'VPARC', 'TEL', 'IDADE','RESMS', 'ENTRADA', 'CLASSE'])\n",
    "\n",
    "# Separar o target\n",
    "y = credtrain['CLASSE']\n",
    "X = credtrain.drop(columns={'CLASSE'})"
   ]
  },
  {
   "cell_type": "code",
   "execution_count": 3,
   "metadata": {},
   "outputs": [],
   "source": [
    "# Colunas que precisam de codificação\n",
    "categorical = ['ESCT', 'NDEP']"
   ]
  },
  {
   "cell_type": "code",
   "execution_count": 4,
   "metadata": {},
   "outputs": [],
   "source": [
    "# One hot Encoder\n",
    "encoder = ce.OneHotEncoder(cols=categorical)\n",
    "onehot = encoder.fit_transform(X)"
   ]
  },
  {
   "cell_type": "code",
   "execution_count": 5,
   "metadata": {},
   "outputs": [],
   "source": [
    "# Ordinal\n",
    "encoder = ce.OrdinalEncoder(cols=categorical)\n",
    "ordinal = encoder.fit_transform(X)"
   ]
  },
  {
   "cell_type": "code",
   "execution_count": 7,
   "metadata": {},
   "outputs": [],
   "source": [
    "# Target Encoder\n",
    "encoder = ce.TargetEncoder(cols=categorical)\n",
    "target = encoder.fit_transform(X, y)"
   ]
  },
  {
   "cell_type": "code",
   "execution_count": 36,
   "metadata": {},
   "outputs": [
    {
     "name": "stderr",
     "output_type": "stream",
     "text": [
      "c:\\Users\\ipand\\miniconda3\\Lib\\site-packages\\category_encoders\\base_contrast_encoder.py:126: FutureWarning: Intercept column might not be added anymore in future releases (c.f. issue #370)\n",
      "  warnings.warn(\"Intercept column might not be added anymore in future releases (c.f. issue #370)\",\n",
      "c:\\Users\\ipand\\miniconda3\\Lib\\site-packages\\category_encoders\\base_contrast_encoder.py:126: FutureWarning: Intercept column might not be added anymore in future releases (c.f. issue #370)\n",
      "  warnings.warn(\"Intercept column might not be added anymore in future releases (c.f. issue #370)\",\n"
     ]
    }
   ],
   "source": [
    "# Backward Difference Coding\n",
    "# Captura a diferença entre cada categoria e a anterior.\n",
    "# O uso faz mais sentido quando a ordem das categorias tem significao ou há uma sequência natural entre elas\n",
    "\n",
    "encoder = ce.BackwardDifferenceEncoder(cols=categorical)\n",
    "bdc = encoder.fit_transform(X)"
   ]
  },
  {
   "cell_type": "code",
   "execution_count": 39,
   "metadata": {},
   "outputs": [],
   "source": [
    "# BaseN\n",
    "# Tranforma a caetegoria em númerica, da mesma forma que a ordinal, mas nesse caso é possível escolher a base numérica (padrão = 2)\n",
    "# Cada coluna representa um digito do numero total\n",
    "\n",
    "encoder = ce.BaseNEncoder(cols=categorical)\n",
    "basen = encoder.fit_transform(X)"
   ]
  },
  {
   "cell_type": "code",
   "execution_count": 10,
   "metadata": {},
   "outputs": [],
   "source": [
    "# Binary\n",
    "# Mesma coisa da Base N com base 2\n",
    "encoder = ce.BinaryEncoder(cols=categorical)\n",
    "binary = encoder.fit_transform(X)"
   ]
  },
  {
   "cell_type": "code",
   "execution_count": 12,
   "metadata": {},
   "outputs": [],
   "source": [
    "# CatBoost Encoder\n",
    "# A técnica de codificação do CatBoost Encoder consiste em atribuir a cada categoria um valor com base na média da variável de destino (target) para essa categoria. \n",
    "encoder  = ce.CatBoostEncoder(cols=categorical)\n",
    "boost = encoder.fit_transform(X, y)"
   ]
  },
  {
   "cell_type": "code",
   "execution_count": 13,
   "metadata": {},
   "outputs": [],
   "source": [
    "# Count Encoder\n",
    "# Substitui cada categoria pelo número de vezes que ela aparece no conjunto de dados.\n",
    "encoder = ce.CountEncoder(cols=categorical)\n",
    "count = encoder.fit_transform(X)"
   ]
  },
  {
   "cell_type": "code",
   "execution_count": 15,
   "metadata": {},
   "outputs": [],
   "source": [
    "# Generalized Linear Mixed Model Encoder\n",
    "#  GLMM Encoder calcula a média da variável alvo para cada categoria, considerando não \n",
    "# apenas a média global, mas também a variabilidade entre diferentes categorias e grupos, levando em conta a estrutura hierárquica ou de agrupamento dos dados.\n",
    "encoder = ce.GLMMEncoder(cols=categorical)\n",
    "genlinear = encoder.fit_transform(X, y)"
   ]
  },
  {
   "cell_type": "code",
   "execution_count": 17,
   "metadata": {},
   "outputs": [],
   "source": [
    "# Gray\n",
    "# Na codificação Gray, a transição entre números consecutivos ocorre alterando apenas um bit por vez. Isso é útil para reduzir a possibilidade de erros de leitura ou transmissão em sistemas digitais, \n",
    "# pois reduz a chance de interpretação incorreta entre dois valores adjacentes.\n",
    "encoder = ce.GrayEncoder(cols=categorical)\n",
    "gray = encoder.fit_transform(X)"
   ]
  },
  {
   "cell_type": "code",
   "execution_count": 51,
   "metadata": {},
   "outputs": [],
   "source": [
    "# Hashing\n",
    "# Gera um numero binário através do cálculo de função de hash\n",
    "# Tomar cuidado. Essa funcao demora bastante\n",
    "encoder = ce.HashingEncoder(cols=categorical)\n",
    "hashing = encoder.fit_transform(X)"
   ]
  },
  {
   "cell_type": "code",
   "execution_count": 35,
   "metadata": {},
   "outputs": [
    {
     "name": "stderr",
     "output_type": "stream",
     "text": [
      "c:\\Users\\ipand\\miniconda3\\Lib\\site-packages\\category_encoders\\base_contrast_encoder.py:126: FutureWarning: Intercept column might not be added anymore in future releases (c.f. issue #370)\n",
      "  warnings.warn(\"Intercept column might not be added anymore in future releases (c.f. issue #370)\",\n",
      "c:\\Users\\ipand\\miniconda3\\Lib\\site-packages\\category_encoders\\base_contrast_encoder.py:126: FutureWarning: Intercept column might not be added anymore in future releases (c.f. issue #370)\n",
      "  warnings.warn(\"Intercept column might not be added anymore in future releases (c.f. issue #370)\",\n"
     ]
    }
   ],
   "source": [
    "# Helmert Coding\n",
    "# cria uma representação numérica que reflete a diferença entre cada nível e a média dos níveis subsequentes.\n",
    "encoder = ce.HelmertEncoder(cols=categorical)\n",
    "helmert = encoder.fit_transform(X)"
   ]
  },
  {
   "cell_type": "code",
   "execution_count": 53,
   "metadata": {},
   "outputs": [],
   "source": [
    "# E o James-Stein Encoder\n",
    "# Combina informações da média da variável alvo para cada categoria com informações globais\n",
    "encoder = ce.JamesSteinEncoder(cols=categorical)\n",
    "james = encoder.fit_transform(X, y)"
   ]
  },
  {
   "cell_type": "code",
   "execution_count": 24,
   "metadata": {},
   "outputs": [],
   "source": [
    "# utiliza a média da variável alvo, excluindo o exemplo atual (o \"leave one out\"), para codificar as categorias.\n",
    "encoder = ce.LeaveOneOutEncoder(cols=categorical)\n",
    "loe = encoder.fit_transform(X, y)"
   ]
  },
  {
   "cell_type": "code",
   "execution_count": 27,
   "metadata": {},
   "outputs": [],
   "source": [
    "# Essa técnica é semelhante ao TargetEncoder, que também usa a média da variável alvo para codificar variáveis categóricas. \n",
    "# No entanto, o MEstimateEncoder introduz um parâmetro de suavização (smoothing) para ajudar a mitigar o efeito de overfitting,\n",
    "# especialmente em situações onde há uma contagem baixa de exemplos para determinadas categorias.\n",
    "encoder = ce.MEstimateEncoder(cols=categorical)\n",
    "mestimate = encoder.fit_transform(X, y)"
   ]
  },
  {
   "cell_type": "code",
   "execution_count": 28,
   "metadata": {},
   "outputs": [
    {
     "name": "stderr",
     "output_type": "stream",
     "text": [
      "c:\\Users\\ipand\\miniconda3\\Lib\\site-packages\\category_encoders\\base_contrast_encoder.py:126: FutureWarning: Intercept column might not be added anymore in future releases (c.f. issue #370)\n",
      "  warnings.warn(\"Intercept column might not be added anymore in future releases (c.f. issue #370)\",\n",
      "c:\\Users\\ipand\\miniconda3\\Lib\\site-packages\\category_encoders\\base_contrast_encoder.py:126: FutureWarning: Intercept column might not be added anymore in future releases (c.f. issue #370)\n",
      "  warnings.warn(\"Intercept column might not be added anymore in future releases (c.f. issue #370)\",\n"
     ]
    }
   ],
   "source": [
    "# o PolynomialEncoder gera colunas baseadas em polinômios para representar as categorias.\n",
    "encoder = ce.PolynomialEncoder(cols=categorical)\n",
    "polinomial = encoder.fit_transform(X)"
   ]
  },
  {
   "cell_type": "code",
   "execution_count": 30,
   "metadata": {},
   "outputs": [],
   "source": [
    "# A ideia principal por trás de um codificador baseado em quantis é mapear as categorias de uma variável categórica \n",
    "# para valores numéricos contínuos, levando em consideração a distribuição dos dados em percentis ou quantis.\n",
    "encoder = ce.QuantileEncoder(cols=categorical)\n",
    "quantile = encoder.fit_transform(X, y)"
   ]
  },
  {
   "cell_type": "code",
   "execution_count": 31,
   "metadata": {},
   "outputs": [],
   "source": [
    "# A ideia por trás de um RankHotEncoder poderia ser criar uma codificação para variáveis categóricas que refletisse a ordem de classificação das categorias em uma variável.\n",
    "encoder = ce.RankHotEncoder(cols=categorical)\n",
    "rhe = encoder.fit_transform(X)"
   ]
  },
  {
   "cell_type": "code",
   "execution_count": 32,
   "metadata": {},
   "outputs": [
    {
     "name": "stderr",
     "output_type": "stream",
     "text": [
      "c:\\Users\\ipand\\miniconda3\\Lib\\site-packages\\category_encoders\\base_contrast_encoder.py:126: FutureWarning: Intercept column might not be added anymore in future releases (c.f. issue #370)\n",
      "  warnings.warn(\"Intercept column might not be added anymore in future releases (c.f. issue #370)\",\n",
      "c:\\Users\\ipand\\miniconda3\\Lib\\site-packages\\category_encoders\\base_contrast_encoder.py:126: FutureWarning: Intercept column might not be added anymore in future releases (c.f. issue #370)\n",
      "  warnings.warn(\"Intercept column might not be added anymore in future releases (c.f. issue #370)\",\n"
     ]
    }
   ],
   "source": [
    "# compara cada nível de uma variável categórica com a média de todos os níveis\n",
    "encoder = ce.SumEncoder(cols=categorical)\n",
    "sum = encoder.fit_transform(X)"
   ]
  },
  {
   "cell_type": "code",
   "execution_count": 34,
   "metadata": {},
   "outputs": [],
   "source": [
    "# O WoE calcula a relação entre a taxa de eventos positivos (por exemplo, aprovação de crédito) \n",
    "# e a taxa de eventos negativos (por exemplo, rejeição de crédito) para cada categoria.\n",
    "# WoE=ln(Taxa de eventos negativos/Taxa de eventos positivos)\n",
    "encoder = ce.WOEEncoder(cols=categorical)\n",
    "woe = encoder.fit_transform(X, y)"
   ]
  }
 ],
 "metadata": {
  "kernelspec": {
   "display_name": "base",
   "language": "python",
   "name": "python3"
  },
  "language_info": {
   "codemirror_mode": {
    "name": "ipython",
    "version": 3
   },
   "file_extension": ".py",
   "mimetype": "text/x-python",
   "name": "python",
   "nbconvert_exporter": "python",
   "pygments_lexer": "ipython3",
   "version": "3.11.5"
  }
 },
 "nbformat": 4,
 "nbformat_minor": 2
}
