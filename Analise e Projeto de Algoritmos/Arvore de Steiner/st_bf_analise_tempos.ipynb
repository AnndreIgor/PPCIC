{
 "cells": [
  {
   "cell_type": "code",
   "execution_count": 4,
   "id": "b0911265",
   "metadata": {},
   "outputs": [],
   "source": [
    "import networkx as nx\n",
    "import matplotlib.pyplot as plt\n",
    "import numpy as np\n",
    "import math\n",
    "import random\n",
    "import time\n",
    "import itertools\n",
    "import pandas as pd\n",
    "\n",
    "random.seed(42)"
   ]
  },
  {
   "cell_type": "code",
   "execution_count": 5,
   "id": "c8978902",
   "metadata": {},
   "outputs": [],
   "source": [
    "def calcular_distancia_euclidiana(origem, destino):\n",
    "    return math.sqrt((destino[0] - origem[0])**2 + (destino[1] - origem[1])**2)\n"
   ]
  },
  {
   "cell_type": "code",
   "execution_count": 6,
   "id": "6583c02f",
   "metadata": {},
   "outputs": [],
   "source": [
    "def forca_bruta_steiner(G, origem, terminais):\n",
    "    menor_custo = math.inf\n",
    "    melhor_arvore = None\n",
    "\n",
    "    for tamanho_subgrafo in range(2, len(terminais) + 1):  # Subconjuntos de tamanho 2 até o tamanho total\n",
    "        for subgrafo in itertools.combinations(terminais, tamanho_subgrafo):\n",
    "            # Construir uma árvore para o subconjunto atual\n",
    "            arvore_atual = nx.Graph()\n",
    "\n",
    "            for origem, destino in itertools.combinations(subgrafo, 2):\n",
    "                caminho = nx.shortest_path(G, source=origem, target=destino, weight='peso')\n",
    "                for i in range(len(caminho) - 1):\n",
    "                    arvore_atual.add_edge(caminho[i], caminho[i+1], peso=G.edges[caminho[i], caminho[i+1]]['peso'])\n",
    "\n",
    "            # Calcular o custo total da árvore\n",
    "            custo_atual = sum(G.edges[edge]['peso'] for edge in arvore_atual.edges)\n",
    "\n",
    "            # Atualizar se o custo atual for menor\n",
    "            if custo_atual < menor_custo:\n",
    "                menor_custo = custo_atual\n",
    "                melhor_arvore = arvore_atual.copy()\n",
    "\n",
    "    return melhor_arvore"
   ]
  },
  {
   "cell_type": "code",
   "execution_count": 9,
   "id": "7ad7acf2",
   "metadata": {},
   "outputs": [],
   "source": [
    "def arvore_steiner(quantidade_pontos, quantidade_terminais):\n",
    "    pontos = []\n",
    "    for _ in range(quantidade_pontos):\n",
    "        x = random.randint(0, 100)  # Gera um número aleatório entre 0 e 100 para a coordenada x\n",
    "        y = random.randint(0, 100)  # Gera um número aleatório entre 0 e 100 para a coordenada y\n",
    "        pontos.append((x, y))\n",
    "\n",
    "    G = nx.Graph() # Grafo original\n",
    "    G.add_nodes_from(pontos) # Adiciona o conjunto de pontos\n",
    "\n",
    "    terminais = random.sample(list(G.nodes()), quantidade_terminais)\n",
    "\n",
    "\n",
    "    G = nx.Graph() # Grafo original\n",
    "    G.add_nodes_from(pontos) # Adiciona o conjunto de pontos\n",
    "    # Fazer a busca entre a origem e todos os terminais, um a um\n",
    "    # Transforma os pontos originais em um grafo completo\n",
    "    for i, origem in enumerate(G.nodes()):\n",
    "        for j, destino in enumerate(G.nodes()):\n",
    "            if(j > i):\n",
    "                distancia = calcular_distancia_euclidiana(origem, destino)\n",
    "                G.add_edge(origem, destino, peso=distancia)\n",
    "                \n",
    "    origem = terminais[0]\n",
    "\n",
    "    tempo_inicio = time.time()\n",
    "    min_arvore_steiner = forca_bruta_steiner(G, origem, terminais)\n",
    "    tempo_total = time.time() - tempo_inicio\n",
    "\n",
    "    return {'pontos': quantidade_pontos, 'terminais': quantidade_terminais, 'tempo': tempo_total}"
   ]
  },
  {
   "cell_type": "code",
   "execution_count": 36,
   "id": "d5a8c84a",
   "metadata": {},
   "outputs": [
    {
     "name": "stdout",
     "output_type": "stream",
     "text": [
      "6 1\n",
      "{'pontos': 6, 'terminais': 1, 'tempo': 0.0}\n",
      "6 4\n",
      "{'pontos': 6, 'terminais': 4, 'tempo': 0.0010089874267578125}\n",
      "11 1\n",
      "{'pontos': 11, 'terminais': 1, 'tempo': 0.0}\n",
      "11 4\n",
      "{'pontos': 11, 'terminais': 4, 'tempo': 0.002000570297241211}\n",
      "11 7\n",
      "{'pontos': 11, 'terminais': 7, 'tempo': 0.05566573143005371}\n",
      "11 10\n",
      "{'pontos': 11, 'terminais': 10, 'tempo': 0.8849914073944092}\n",
      "16 1\n",
      "{'pontos': 16, 'terminais': 1, 'tempo': 0.0}\n",
      "16 4\n",
      "{'pontos': 16, 'terminais': 4, 'tempo': 0.002999544143676758}\n",
      "16 7\n",
      "{'pontos': 16, 'terminais': 7, 'tempo': 0.09278750419616699}\n",
      "16 10\n",
      "{'pontos': 16, 'terminais': 10, 'tempo': 1.4027049541473389}\n",
      "16 13\n",
      "{'pontos': 16, 'terminais': 13, 'tempo': 18.934545278549194}\n"
     ]
    }
   ],
   "source": [
    "analise_tempo = []\n",
    "qtd_pontos = 1000\n",
    "sair = False\n",
    "tempo_limite = 5.0\n",
    "\n",
    "for i in range(1, qtd_pontos, 5):\n",
    "    if(sair):\n",
    "        break\n",
    "    for j in range(1, i, 3):\n",
    "        print(i, j)\n",
    "        analise_tempo.append(arvore_steiner(i, j))\n",
    "        print(analise_tempo[-1])\n",
    "        if(analise_tempo[-1]['tempo'] > tempo_limite):\n",
    "            sair = True\n",
    "            break\n",
    "\n",
    "analise = pd.DataFrame(analise_tempo)\n",
    "analise.columns = ['Pontos', 'Terminais', 'tempo_1']\n",
    "\n",
    "qtd_pontos = i\n",
    "\n",
    "# rodar a mesma analise mais duas vezes para tirar a media dos tempos\n",
    "for k in range(2, 4):\n",
    "    analise_tempo = []\n",
    "    for i in range(1, qtd_pontos, 5):\n",
    "        for j in range(1, i, 3):\n",
    "            print(i, j)\n",
    "            analise_tempo.append(arvore_steiner(i, j))\n",
    "\n",
    "    analise_parcial = pd.DataFrame(analise_tempo)\n",
    "    analise_parcial.columns = ['Pontos', 'Terminais', 'Tempo']\n",
    "    analise[f'tempo_{k}'] = analise_parcial['Tempo']\n",
    "\n",
    "analise['Media_Tempo'] = (analise['tempo_1'] + analise['tempo_2'] + analise['tempo_3'])/3\n",
    "analise.to_csv('Analise_tempo_foca_bruta.csv')\n"
   ]
  }
 ],
 "metadata": {
  "kernelspec": {
   "display_name": "Python 3 (ipykernel)",
   "language": "python",
   "name": "python3"
  },
  "language_info": {
   "codemirror_mode": {
    "name": "ipython",
    "version": 3
   },
   "file_extension": ".py",
   "mimetype": "text/x-python",
   "name": "python",
   "nbconvert_exporter": "python",
   "pygments_lexer": "ipython3",
   "version": "3.11.5"
  }
 },
 "nbformat": 4,
 "nbformat_minor": 5
}
